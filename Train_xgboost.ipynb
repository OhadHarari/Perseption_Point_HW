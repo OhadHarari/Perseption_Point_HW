{
 "cells": [
  {
   "cell_type": "code",
   "execution_count": 2,
   "id": "5399b82d",
   "metadata": {},
   "outputs": [
    {
     "name": "stdout",
     "output_type": "stream",
     "text": [
      "1.1453006965655155e-09\n",
      "0.05714285214419172\n"
     ]
    }
   ],
   "source": [
    "import numpy as np\n",
    "import xgboost as xgb\n",
    "from sklearn.model_selection import train_test_split\n",
    "from sklearn.metrics import mean_squared_error\n",
    "\n",
    "FEATURE_FILE = \"C:\\\\Users\\\\ohad\\\\Downloads\\\\features_file.npz\"\n",
    "\n",
    "def main():\n",
    "    all_calc_fetures = []\n",
    "    label_vector     = []\n",
    "    with np.load(FEATURE_FILE) as file:\n",
    "        all_calc_fetures = file['all_calc_fetures']\n",
    "        label_vector = file['label_vector']\n",
    "\n",
    "    X_train, X_test, y_train, y_test = train_test_split(all_calc_fetures, label_vector)\n",
    "\n",
    "    regressor = xgb.XGBRegressor(\n",
    "        n_estimators=100,\n",
    "        reg_lambda=1,\n",
    "        gamma=0,\n",
    "        max_depth=3\n",
    "    )\n",
    "    \n",
    "    regressor1 = xgb.XGBRegressor(\n",
    "    n_estimators=100,\n",
    "    reg_lambda=1,\n",
    "    gamma=0,\n",
    "    max_depth=3\n",
    "    )\n",
    "\n",
    "    regressor.fit(all_calc_fetures, label_vector)\n",
    "    y_pred = regressor.predict(X_test)\n",
    "    mean_squared_error(y_test, y_pred)\n",
    "    print(mean_squared_error(y_test, y_pred))\n",
    "    \n",
    "    \n",
    "    regressor1.fit(X_train[0:1], y_train[0:1])\n",
    "    y_pred1 = regressor1.predict(X_test)\n",
    "    print(mean_squared_error(y_test, y_pred1))\n",
    "\n",
    "if __name__ == \"__main__\":\n",
    "    main()"
   ]
  }
 ],
 "metadata": {
  "kernelspec": {
   "display_name": "Python 3",
   "language": "python",
   "name": "python3"
  },
  "language_info": {
   "codemirror_mode": {
    "name": "ipython",
    "version": 3
   },
   "file_extension": ".py",
   "mimetype": "text/x-python",
   "name": "python",
   "nbconvert_exporter": "python",
   "pygments_lexer": "ipython3",
   "version": "3.7.10"
  }
 },
 "nbformat": 4,
 "nbformat_minor": 5
}
